{
 "metadata": {
  "language_info": {
   "codemirror_mode": {
    "name": "ipython",
    "version": 3
   },
   "file_extension": ".py",
   "mimetype": "text/x-python",
   "name": "python",
   "nbconvert_exporter": "python",
   "pygments_lexer": "ipython3",
   "version": "3.7.9-final"
  },
  "orig_nbformat": 2,
  "kernelspec": {
   "name": "Python 3.7.9 64-bit ('datascience': conda)",
   "display_name": "Python 3.7.9 64-bit ('datascience': conda)",
   "metadata": {
    "interpreter": {
     "hash": "f90bca0613efed7ecabf5471fffaa3c59b574bc50ff8d7750106372263da6181"
    }
   }
  }
 },
 "nbformat": 4,
 "nbformat_minor": 2,
 "cells": [
  {
   "cell_type": "code",
   "execution_count": 36,
   "metadata": {},
   "outputs": [
    {
     "output_type": "execute_result",
     "data": {
      "text/plain": "(221525, 40)"
     },
     "metadata": {},
     "execution_count": 36
    }
   ],
   "source": [
    "import pandas as pd\n",
    "import numpy as np\n",
    "import datetime\n",
    "import time\n",
    "df_orig = pd.read_csv('Collisions.csv')\n",
    "df_orig.shape"
   ]
  },
  {
   "source": [
    "Now let's have a closer look at what the data looks like. I will use pandas_profiling package to provide details and I will use it to ascertain which columns to drop (identifier columns) and which need some cleaning up"
   ],
   "cell_type": "markdown",
   "metadata": {}
  },
  {
   "cell_type": "code",
   "execution_count": 3,
   "metadata": {
    "tags": []
   },
   "outputs": [],
   "source": [
    "# from pandas_profiling import ProfileReport\n",
    "# profile = ProfileReport(df,title='Collisions initial profile')\n",
    "# profile.to_file('profile.html')"
   ]
  },
  {
   "cell_type": "code",
   "execution_count": 4,
   "metadata": {},
   "outputs": [],
   "source": [
    "# columns to drop: OBJECTID, INCKEY, COLDETKEY, REPORTNO, LOCATION, STATUS, INJURIES, SERIOUSINJURIES, FATALITIES, SDOTCOLNUM, SEGLANEKEY, CROSSWALKKEY\n",
    "# columns to keep separate: SEVERITYCODE, SEVERITYDESC, COLLISIONTYPE, SDOT_COLDESC, ST_COLDESC"
   ]
  },
  {
   "cell_type": "code",
   "execution_count": 17,
   "metadata": {},
   "outputs": [
    {
     "output_type": "execute_result",
     "data": {
      "text/plain": "Index([&#39;X&#39;, &#39;Y&#39;, &#39;ADDRTYPE&#39;, &#39;INTKEY&#39;, &#39;EXCEPTRSNCODE&#39;, &#39;EXCEPTRSNDESC&#39;,\n       &#39;SEVERITYCODE&#39;, &#39;COLLISIONTYPE&#39;, &#39;PERSONCOUNT&#39;, &#39;PEDCOUNT&#39;,\n       &#39;PEDCYLCOUNT&#39;, &#39;VEHCOUNT&#39;, &#39;INCDATE&#39;, &#39;INCDTTM&#39;, &#39;JUNCTIONTYPE&#39;,\n       &#39;SDOT_COLCODE&#39;, &#39;SDOT_COLDESC&#39;, &#39;INATTENTIONIND&#39;, &#39;UNDERINFL&#39;,\n       &#39;WEATHER&#39;, &#39;ROADCOND&#39;, &#39;LIGHTCOND&#39;, &#39;PEDROWNOTGRNT&#39;, &#39;SPEEDING&#39;,\n       &#39;ST_COLCODE&#39;, &#39;HITPARKEDCAR&#39;],\n      dtype=&#39;object&#39;)"
     },
     "metadata": {},
     "execution_count": 17
    }
   ],
   "source": [
    "df = df_orig.copy()\n",
    "df.drop(columns=['OBJECTID','INCKEY','COLDETKEY','REPORTNO','LOCATION','STATUS','INJURIES','SERIOUSINJURIES','FATALITIES','SDOTCOLNUM','SEGLANEKEY','CROSSWALKKEY','SEVERITYDESC','ST_COLDESC'],inplace=True)\n",
    "\n",
    "# clean ST_COLCODE\n",
    "def st_colcode(val):\n",
    "    try:\n",
    "        return int(val)\n",
    "    except:\n",
    "        return np.nan\n",
    "\n",
    "df['ST_COLCODE'] = df['ST_COLCODE'].apply(st_colcode)\n",
    "\n",
    "df.columns"
   ]
  },
  {
   "cell_type": "code",
   "execution_count": 18,
   "metadata": {},
   "outputs": [
    {
     "output_type": "execute_result",
     "data": {
      "text/plain": "0     2013/03/14 00:00:00+00\n1     2006/01/15 00:00:00+00\n2     2019/09/09 00:00:00+00\n3     2019/12/19 00:00:00+00\n4     2013/03/27 00:00:00+00\n5     2005/07/07 00:00:00+00\n6     2020/07/31 00:00:00+00\n7     2013/04/01 00:00:00+00\n8     2006/04/11 00:00:00+00\n9     2013/04/03 00:00:00+00\n10    2013/03/30 00:00:00+00\n11    2013/03/31 00:00:00+00\n12    2006/06/13 00:00:00+00\n13    2019/12/23 00:00:00+00\n14    2007/04/17 00:00:00+00\n15    2004/09/17 00:00:00+00\n16    2019/12/20 00:00:00+00\n17    2013/03/27 00:00:00+00\n18    2020/05/03 00:00:00+00\n19    2019/12/22 00:00:00+00\nName: INCDATE, dtype: object"
     },
     "metadata": {},
     "execution_count": 18
    }
   ],
   "source": [
    "df['INCDATE'].head(20)"
   ]
  },
  {
   "source": [
    "#### Feature engineering"
   ],
   "cell_type": "markdown",
   "metadata": {}
  },
  {
   "cell_type": "code",
   "execution_count": 28,
   "metadata": {},
   "outputs": [],
   "source": [
    "df['DATE'] = pd.to_datetime(df['INCDATE'],format=r'%Y/%m/%d %H:%M:%S+00')\n",
    "df['DATE']\n",
    "df['YEAR'] = df['DATE'].apply(lambda x: x.year)\n",
    "df['DAYOFYEAR'] = df['DATE'].apply(lambda x: x.dayofyear)\n"
   ]
  },
  {
   "cell_type": "code",
   "execution_count": 75,
   "metadata": {},
   "outputs": [],
   "source": [
    "def parse_datetime(val:str):\n",
    "    if ' ' in val:\n",
    "        min_char = val.find(' ') + 1\n",
    "        new_time = time.strptime(val[min_char:],r'%I:%M:%S %p')\n",
    "        return new_time.tm_hour*60+new_time.tm_min*60\n",
    "    else:\n",
    "        return np.nan\n",
    "\n",
    "df['TIME'] = df['INCDTTM'].apply(parse_datetime)\n",
    "df['TIME'].replace(to_replace=np.nan, value=int(df['TIME'].mean()),inplace=True)"
   ]
  },
  {
   "cell_type": "code",
   "execution_count": 86,
   "metadata": {},
   "outputs": [],
   "source": [
    "def combine_date_time(val):\n",
    "    date = val['DATE']\n",
    "    hour = int(val['TIME']/3600)\n",
    "    minute = int((val['TIME']-3600*hour)/60)\n",
    "    return datetime.datetime.combine(date,datetime.time(hour,minute,0))\n",
    "\n",
    "df['DATETIME'] = df[['DATE','TIME']].apply(combine_date_time,axis=1)\n",
    "df['DATETIME'] = df['DATETIME'].apply(lambda x: x.timestamp())    "
   ]
  },
  {
   "cell_type": "code",
   "execution_count": 89,
   "metadata": {},
   "outputs": [
    {
     "output_type": "execute_result",
     "data": {
      "text/plain": "Index([&#39;X&#39;, &#39;Y&#39;, &#39;ADDRTYPE&#39;, &#39;INTKEY&#39;, &#39;EXCEPTRSNCODE&#39;, &#39;EXCEPTRSNDESC&#39;,\n       &#39;SEVERITYCODE&#39;, &#39;COLLISIONTYPE&#39;, &#39;PERSONCOUNT&#39;, &#39;PEDCOUNT&#39;,\n       &#39;PEDCYLCOUNT&#39;, &#39;VEHCOUNT&#39;, &#39;JUNCTIONTYPE&#39;, &#39;SDOT_COLCODE&#39;,\n       &#39;INATTENTIONIND&#39;, &#39;UNDERINFL&#39;, &#39;WEATHER&#39;, &#39;ROADCOND&#39;, &#39;LIGHTCOND&#39;,\n       &#39;PEDROWNOTGRNT&#39;, &#39;SPEEDING&#39;, &#39;ST_COLCODE&#39;, &#39;HITPARKEDCAR&#39;, &#39;DATETIME&#39;],\n      dtype=&#39;object&#39;)"
     },
     "metadata": {},
     "execution_count": 89
    }
   ],
   "source": [
    "df.drop(columns=['INCDATE','INCDTTM','DATE','YEAR','TIME','SDOT_COLDESC']).columns"
   ]
  }
 ]
}